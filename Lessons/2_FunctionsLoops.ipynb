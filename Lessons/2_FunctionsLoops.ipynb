{
 "cells": [
  {
   "cell_type": "markdown",
   "metadata": {},
   "source": [
    "# Lesson 2: Loops, Logic, and Functions\n",
    "\n",
    "---\n",
    "\n",
    "![Image of Yaktocat](https://github.com/AnastasisKratsios/Python_Basics/blob/main/Supporting_Documents/LogicalTest.png?raw=true)\n",
    "\n",
    "---"
   ]
  },
  {
   "cell_type": "markdown",
   "metadata": {},
   "source": [
    "In this notebook, we'll explore two fundamental concepts in Python: **loops** and **functions**. These are essential tools for controlling the flow of your program and creating reusable code blocks.\n"
   ]
  },
  {
   "cell_type": "markdown",
   "metadata": {},
   "source": [
    "---"
   ]
  },
  {
   "cell_type": "markdown",
   "metadata": {},
   "source": [
    "Before begining let's learn a trick!  \n",
    "\n",
    "We'll be using functions we defined in a previous notebook, namely `1Numpy.ipynb`.  Using the following simple code snippet, we can run that notebook, and thus load all its functions into memory, without having to directly open it.  This will be helpful down the ways, when automating things."
   ]
  },
  {
   "cell_type": "code",
   "execution_count": 19,
   "metadata": {},
   "outputs": [
    {
     "name": "stdout",
     "output_type": "stream",
     "text": [
      "[1 2 3]\n",
      "[[ 0.71167353 -0.32448496 -1.00187064]\n",
      " [ 0.23625079 -0.10215984 -1.14129263]\n",
      " [ 2.65440726  1.44060519  0.09890227]]\n",
      "Shape of A: (3,)\n",
      "Shape of B_2d: (2, 3)\n",
      "Dimensionality of array_1d: 1\n",
      "Dimensionality of array_2d: 2\n",
      "Dimensionality of array_3d: 3\n",
      "A as a List:\n",
      "[1, 2, 3]\n",
      "View A_list directly\n",
      "A raised to the square\n",
      "[1 4 9]\n",
      "\n",
      "A raised to A_plus1\n",
      "[ 1  8 81]\n",
      "[[ 0.51241894 -0.84689693 -0.55676874]\n",
      " [-1.19901462  0.4508463  -0.51399059]\n",
      " [ 2.06317381  0.13258234 -0.62639763]]\n",
      "Eigenvalues are: \n",
      "[ 1.43792651+0.j      -0.55052945+1.05319j -0.55052945-1.05319j]\n",
      "Its Eigenvectors are:\n",
      "[[-0.46554659+0.j          0.03071494+0.38426355j  0.03071494-0.38426355j]\n",
      " [ 0.78164594+0.j         -0.01522091+0.44409614j -0.01522091-0.44409614j]\n",
      " [-0.41508554+0.j          0.8086687 +0.j          0.8086687 -0.j        ]]\n",
      "Sorry your matrix is not invertible!\n",
      "first element: 1\n",
      "third element: 3\n",
      "Basic Slicing: [1]\n",
      "Step: [1 2 3]\n",
      "Negative Indices: [3 2 1]\n",
      "Reshaped B_2d:\n",
      "[[1 2 3]\n",
      " [4 5 6]]\n",
      "Our frind B_2d has been completely flattened:\n",
      "[1 2 3 4 5 6]\n",
      "Our friends A and A_plus1 have been merged:\n",
      "[1 2 3 2 3 4]\n",
      "Our poor friend A has been split into three parts:\n",
      "[array([1]), array([2]), array([3])]\n",
      "Our poor friend A has been split into three parts...again:\n",
      "[array([1]), array([2]), array([3])]\n"
     ]
    }
   ],
   "source": [
    "# Run Previous Lesson's Notebook        \n",
    "%run ./1_Numpy.ipynb"
   ]
  },
  {
   "cell_type": "markdown",
   "metadata": {},
   "source": [
    "Let's check if the `A_random` matrix, defined previously, is indeed captured in our working memory."
   ]
  },
  {
   "cell_type": "code",
   "execution_count": 24,
   "metadata": {},
   "outputs": [
    {
     "name": "stdout",
     "output_type": "stream",
     "text": [
      "[[ 0.71167353 -0.32448496 -1.00187064]\n",
      " [ 0.23625079 -0.10215984 -1.14129263]\n",
      " [ 2.65440726  1.44060519  0.09890227]]\n"
     ]
    }
   ],
   "source": [
    "print(A_random)"
   ]
  },
  {
   "cell_type": "markdown",
   "metadata": {},
   "source": [
    "---\n",
    "\n",
    "---\n",
    "\n",
    "---\n",
    "\n",
    "Okay, let's get down to buisness..."
   ]
  },
  {
   "cell_type": "markdown",
   "metadata": {},
   "source": [
    "## Loops\n",
    "Loops are used to repeat a block of code multiple times. Python supports two main types of loops: **for loops** and **while loops**."
   ]
  },
  {
   "cell_type": "markdown",
   "metadata": {},
   "source": [
    "#### For Loops\n",
    "\n",
    "For loops are often used to iterate over a sequence (like a list, tuple, or string) or a range of numbers.\n"
   ]
  },
  {
   "cell_type": "code",
   "execution_count": 1,
   "metadata": {},
   "outputs": [
    {
     "name": "stdout",
     "output_type": "stream",
     "text": [
      "apple\n",
      "banana\n",
      "cherry\n",
      "0\n",
      "1\n",
      "2\n",
      "3\n",
      "4\n"
     ]
    }
   ],
   "source": [
    "# Iterate over a list\n",
    "fruits = [\"apple\", \"banana\", \"cherry\"]\n",
    "for fruit in fruits:\n",
    "    print(fruit)\n",
    "\n",
    "# Iterate through a range of numbers\n",
    "for i in range(5):\n",
    "    print(i)"
   ]
  },
  {
   "cell_type": "markdown",
   "metadata": {},
   "source": [
    "#### While Loops\n",
    "\n",
    "While loops execute a block of code repeatedly as long as a given condition is `True`."
   ]
  },
  {
   "cell_type": "markdown",
   "metadata": {},
   "source": [
    "Here's an example of a `while` loop."
   ]
  },
  {
   "cell_type": "code",
   "execution_count": 2,
   "metadata": {},
   "outputs": [
    {
     "name": "stdout",
     "output_type": "stream",
     "text": [
      "0\n",
      "1\n",
      "2\n",
      "3\n",
      "4\n"
     ]
    }
   ],
   "source": [
    "count = 0\n",
    "while count < 5:\n",
    "    print(count)\n",
    "    count += 1"
   ]
  },
  {
   "cell_type": "markdown",
   "metadata": {},
   "source": [
    "### Nesting Loops\n",
    "Loops can be nested.  Let's see how this can be used to populate a matrix of zeros."
   ]
  },
  {
   "cell_type": "code",
   "execution_count": 3,
   "metadata": {},
   "outputs": [
    {
     "name": "stdout",
     "output_type": "stream",
     "text": [
      "[[ 0.  1.  2.  3.  4.]\n",
      " [ 1.  2.  3.  4.  5.]\n",
      " [ 2.  3.  4.  5.  6.]\n",
      " [ 3.  4.  5.  6.  7.]\n",
      " [ 4.  5.  6.  7.  8.]\n",
      " [ 5.  6.  7.  8.  9.]\n",
      " [ 6.  7.  8.  9. 10.]\n",
      " [ 7.  8.  9. 10. 11.]\n",
      " [ 8.  9. 10. 11. 12.]\n",
      " [ 9. 10. 11. 12. 13.]]\n"
     ]
    }
   ],
   "source": [
    "# Initialize matrix\n",
    "import numpy as np\n",
    "\n",
    "A_zeros = np.zeros([10,5])\n",
    "\n",
    "# Outer loop, runs over rows\n",
    "for i in range(A_zeros.shape[0]):\n",
    "    # Inner loop, runs over columns in a given row\n",
    "    for j in range(A_zeros.shape[1]):\n",
    "        A_zeros[i,j] = i+j\n",
    "\n",
    "# Let's see the result\n",
    "print(A_zeros)"
   ]
  },
  {
   "cell_type": "markdown",
   "metadata": {},
   "source": [
    "**Pro-tip:** *Referring to your numpy dimensions directly with the `.shape` operations makes your code less susseptible to breaking if some, otherwise, hard-coded parameter is modified earlier on.*"
   ]
  },
  {
   "cell_type": "markdown",
   "metadata": {},
   "source": [
    "## Functions\n",
    "\n",
    "Functions allow you to encapsulate code into reusable blocks. They improve code organization and maintainability.\n",
    "\n",
    "#### Defining a Function\n",
    "\n",
    "Use the `def` keyword to define a function. Functions can accept parameters and return values."
   ]
  },
  {
   "cell_type": "code",
   "execution_count": 4,
   "metadata": {},
   "outputs": [],
   "source": [
    "def greet(name):\n",
    "    \"\"\"A function to greet the user.\"\"\"\n",
    "    print(f\"Hello, {name}!\")\n",
    "\n",
    "def add(a, b):\n",
    "    \"\"\"A function to add two numbers.\"\"\"\n",
    "    return a + b"
   ]
  },
  {
   "cell_type": "markdown",
   "metadata": {},
   "source": [
    "#### Using Functions\n",
    "\n",
    "Call functions by their name, providing any required arguments. Capture and use return values if the function has one."
   ]
  },
  {
   "cell_type": "code",
   "execution_count": 5,
   "metadata": {},
   "outputs": [
    {
     "name": "stdout",
     "output_type": "stream",
     "text": [
      "Hello, Alice!\n",
      "12\n"
     ]
    }
   ],
   "source": [
    "greet(\"Alice\")          \n",
    "sum_result = add(5, 7)  \n",
    "print(sum_result)    "
   ]
  },
  {
   "cell_type": "markdown",
   "metadata": {},
   "source": [
    "Functions can greatly enhance code reusability and readability."
   ]
  },
  {
   "cell_type": "markdown",
   "metadata": {},
   "source": [
    "## Combining Loops and Functions\n",
    "\n",
    "You can use loops to repeatedly call functions, making your code more efficient and dynamic.  For example, you can use a loop to call a function multiple times."
   ]
  },
  {
   "cell_type": "code",
   "execution_count": 6,
   "metadata": {},
   "outputs": [
    {
     "name": "stdout",
     "output_type": "stream",
     "text": [
      "Hello, User 0!\n",
      "Hello, User 1!\n",
      "Hello, User 2!\n"
     ]
    }
   ],
   "source": [
    "for i in range(3):\n",
    "    greet(\"User \" + str(i))"
   ]
  },
  {
   "cell_type": "markdown",
   "metadata": {},
   "source": [
    "## Functions with NumPy Arrays\n",
    "Next, let's see how to apply functions on numpy arrays.  This, therefore, builds on our last lesson.\n",
    "\n",
    "Let's start by defining a custom function that operates on individual elements, by squaring them and taking their cosine."
   ]
  },
  {
   "cell_type": "code",
   "execution_count": 7,
   "metadata": {},
   "outputs": [],
   "source": [
    "def custom_function(x):\n",
    "    return np.cos(x ** 2)"
   ]
  },
  {
   "cell_type": "markdown",
   "metadata": {},
   "source": [
    "To efficiently apply a function to a numpy array, we will use the `Vectorize` function, which has an input a function with float (scalar) inputs and outputs a has hash function.  Here, a `hash` function is a function which operators on NumPy arrays of arbitary, not predefined, size."
   ]
  },
  {
   "cell_type": "markdown",
   "metadata": {},
   "source": [
    "### Vectorization with NumPy\n",
    "\n",
    "Now, you can apply the `square` function to a NumPy array using the array's built-in operations:"
   ]
  },
  {
   "cell_type": "code",
   "execution_count": 8,
   "metadata": {},
   "outputs": [],
   "source": [
    "# Create a NumPy array\n",
    "A = np.array([1, 2, 3, 4, 5])"
   ]
  },
  {
   "cell_type": "markdown",
   "metadata": {},
   "source": [
    "Let's vectorized our custom function"
   ]
  },
  {
   "cell_type": "code",
   "execution_count": 9,
   "metadata": {},
   "outputs": [],
   "source": [
    "custom_function__vectorized = np.vectorize(custom_function)"
   ]
  },
  {
   "cell_type": "markdown",
   "metadata": {},
   "source": [
    "Let's apply the vectorizsed custom function and see the result."
   ]
  },
  {
   "cell_type": "code",
   "execution_count": 10,
   "metadata": {},
   "outputs": [
    {
     "name": "stdout",
     "output_type": "stream",
     "text": [
      "[ 0.54030231 -0.65364362 -0.91113026 -0.95765948  0.99120281]\n"
     ]
    }
   ],
   "source": [
    "# apply vectorized function\n",
    "Vectorized_arr = custom_function__vectorized(A)\n",
    "\n",
    "# print array\n",
    "print(Vectorized_arr)"
   ]
  },
  {
   "cell_type": "markdown",
   "metadata": {},
   "source": [
    "### Lambda Functions\n",
    "\n",
    "So-called **lambda functions**, which are small, anonymous functions, to apply custom operations. Here's how to square each element using a lambda function:"
   ]
  },
  {
   "cell_type": "code",
   "execution_count": 11,
   "metadata": {},
   "outputs": [
    {
     "name": "stdout",
     "output_type": "stream",
     "text": [
      "[ 0.54030231 -0.65364362 -0.91113026 -0.95765948  0.99120281]\n"
     ]
    }
   ],
   "source": [
    "# Apply a lambda function to the array\n",
    "result_lambda = np.vectorize(lambda x: custom_function(x))(A)\n",
    "\n",
    "# readout\n",
    "print(result_lambda)"
   ]
  },
  {
   "cell_type": "markdown",
   "metadata": {},
   "source": [
    "### Applying Functions Along Axes\n",
    "\n",
    "You can also apply functions along specific axes of multidimensional arrays using functions like `np.apply_along_axis()`."
   ]
  },
  {
   "cell_type": "code",
   "execution_count": 25,
   "metadata": {},
   "outputs": [
    {
     "data": {
      "text/plain": [
       "array([[ 0.87445786,  0.99446208,  0.5371474 ],\n",
       "       [ 0.99844278,  0.99994554,  0.26504199],\n",
       "       [ 0.7229784 , -0.48341093,  0.99995216]])"
      ]
     },
     "execution_count": 25,
     "metadata": {},
     "output_type": "execute_result"
    }
   ],
   "source": [
    "# Apply the custom function along columns (axis=0)\n",
    "result_col = np.apply_along_axis(custom_function, axis=0, arr=A_random)\n",
    "\n",
    "# Readout\n",
    "result_col"
   ]
  },
  {
   "cell_type": "markdown",
   "metadata": {},
   "source": [
    "### Summary - A note on Computational Efficiency\n",
    "\n",
    "There are various other possibilities for applying a function to a NumPy array.  In general, like R, Python is most efficient when it comes to vectorial operations and **not** with loops.  Therefore, try and write your code as \"vectorially as possible\".  \n",
    "\n",
    "To get this point across, let's peek at some perfomance comparisons of different ways to apply our custom function to some arrays.\n",
    "\n",
    "**Comment:** *You'll have to install the `math` and `perfplot` packages.*"
   ]
  },
  {
   "cell_type": "code",
   "execution_count": 26,
   "metadata": {},
   "outputs": [
    {
     "data": {
      "text/html": [
       "<pre style=\"white-space:pre;overflow-x:auto;line-height:normal;font-family:Menlo,'DejaVu Sans Mono',consolas,'Courier New',monospace\">/home/annie/.local/lib/python3.9/site-packages/rich/live.py:231: UserWarning: install \"ipywidgets\" for Jupyter \n",
       "support\n",
       "  warnings.warn('install \"ipywidgets\" for Jupyter support')\n",
       "</pre>\n"
      ],
      "text/plain": [
       "/home/annie/.local/lib/python3.9/site-packages/rich/live.py:231: UserWarning: install \"ipywidgets\" for Jupyter \n",
       "support\n",
       "  warnings.warn('install \"ipywidgets\" for Jupyter support')\n"
      ]
     },
     "metadata": {},
     "output_type": "display_data"
    },
    {
     "data": {
      "text/html": [
       "<pre style=\"white-space:pre;overflow-x:auto;line-height:normal;font-family:Menlo,'DejaVu Sans Mono',consolas,'Courier New',monospace\"></pre>\n"
      ],
      "text/plain": []
     },
     "metadata": {},
     "output_type": "display_data"
    },
    {
     "data": {
      "text/html": [
       "<pre style=\"white-space:pre;overflow-x:auto;line-height:normal;font-family:Menlo,'DejaVu Sans Mono',consolas,'Courier New',monospace\">\n",
       "</pre>\n"
      ],
      "text/plain": [
       "\n"
      ]
     },
     "metadata": {},
     "output_type": "display_data"
    },
    {
     "data": {
      "image/png": "[encoded data removed]",
      "text/plain": [
       "<Figure size 432x288 with 1 Axes>"
      ]
     },
     "metadata": {
      "needs_background": "dark"
     },
     "output_type": "display_data"
    }
   ],
   "source": [
    "import perfplot\n",
    "import math\n",
    "\n",
    "def basic(x):\n",
    "    return custom_function(x)\n",
    "\n",
    "def array_for(x):\n",
    "    return np.array([custom_function(xi) for xi in x])\n",
    "\n",
    "\n",
    "def array_map(x):\n",
    "    return np.array(list(map(custom_function, x)))\n",
    "\n",
    "\n",
    "def vectorized(x):\n",
    "    return custom_function__vectorized(x)\n",
    "\n",
    "\n",
    "b = perfplot.bench(\n",
    "    setup=np.random.rand,\n",
    "    n_range=[2 ** k for k in range(20)],\n",
    "    kernels=[\n",
    "        basic,\n",
    "        array_for,\n",
    "        array_map,\n",
    "        vectorized,\n",
    "    ],\n",
    "    xlabel=\"len(x)\",\n",
    ")\n",
    "b.save(\"out1.svg\")\n",
    "b.show()"
   ]
  },
  {
   "cell_type": "markdown",
   "metadata": {},
   "source": [
    "As we see, vectorize is faster than looping.  Also, (sometimes) the direct application of the functions is best."
   ]
  },
  {
   "cell_type": "markdown",
   "metadata": {},
   "source": [
    "## Logical Statements"
   ]
  },
  {
   "cell_type": "markdown",
   "metadata": {},
   "source": [
    "One of the most basic things of any programming language, such as Python, is the ability to process logical statements based on their **truth value**.  Let's see how this can be done in Python.  \n",
    "\n",
    "Let's do that in the context of a function definition."
   ]
  },
  {
   "cell_type": "code",
   "execution_count": 27,
   "metadata": {},
   "outputs": [],
   "source": [
    "def factorial(n):\n",
    "    if n <= 1:\n",
    "        return 1\n",
    "    else:\n",
    "        return n * factorial(n - 1)"
   ]
  },
  {
   "cell_type": "markdown",
   "metadata": {},
   "source": [
    "Let's see how it works."
   ]
  },
  {
   "cell_type": "code",
   "execution_count": 28,
   "metadata": {},
   "outputs": [],
   "source": [
    "factorial_of_5 = factorial(5)"
   ]
  },
  {
   "cell_type": "markdown",
   "metadata": {},
   "source": [
    "Let's check if the above output is positive, if so, then let's end on a positive note :)"
   ]
  },
  {
   "cell_type": "code",
   "execution_count": 29,
   "metadata": {},
   "outputs": [
    {
     "name": "stdout",
     "output_type": "stream",
     "text": [
      "What a nice day!\n"
     ]
    }
   ],
   "source": [
    "if factorial_of_5 > 0:\n",
    "    print('What a nice day!')\n",
    "else:\n",
    "    print('Bye for now!')"
   ]
  },
  {
   "cell_type": "markdown",
   "metadata": {},
   "source": [
    "### Example: Writing Functions with Loops in Them"
   ]
  },
  {
   "cell_type": "markdown",
   "metadata": {},
   "source": [
    "Let's wrap up by bringing things together in writing a function which runs a loop.  This toy example illustrates how one can use: random samples, loops, and logic in functional programming; specifically Python."
   ]
  },
  {
   "cell_type": "markdown",
   "metadata": {},
   "source": [
    "Specifically, we'll now use a Monte Carlo simulation to estimate the value of $\\pi$ by randomly generating points within a unit square and determining the ratio of points that fall inside a quarter circle inscribed within the square."
   ]
  },
  {
   "cell_type": "code",
   "execution_count": 30,
   "metadata": {},
   "outputs": [],
   "source": [
    "# Import Random Package\n",
    "import random\n",
    "\n",
    "# Generate Samples\n",
    "def Generate_Approximation_to_PI(num_samples):\n",
    "    inside_circle = 0\n",
    "    \n",
    "    for _ in range(num_samples):\n",
    "        x = random.uniform(0, 1)\n",
    "        y = random.uniform(0, 1)\n",
    "        \n",
    "        distance = x**2 + y**2\n",
    "        \n",
    "        if distance <= 1:\n",
    "            inside_circle += 1\n",
    "    \n",
    "    pi_estimate = (inside_circle / num_samples) * 4\n",
    "    return pi_estimate"
   ]
  },
  {
   "cell_type": "markdown",
   "metadata": {},
   "source": [
    "Let's Run the code to see how it works."
   ]
  },
  {
   "cell_type": "markdown",
   "metadata": {},
   "source": [
    "First we define the number of samples to be used."
   ]
  },
  {
   "cell_type": "code",
   "execution_count": 31,
   "metadata": {},
   "outputs": [],
   "source": [
    "# Number of samples for the simulation\n",
    "N_Samples = 10**5"
   ]
  },
  {
   "cell_type": "code",
   "execution_count": 32,
   "metadata": {},
   "outputs": [
    {
     "name": "stdout",
     "output_type": "stream",
     "text": [
      "Our Estimate of Pi using100000 samples.  Our estimate: 3.13844.\n"
     ]
    }
   ],
   "source": [
    "# Calculate the estimated value of π using the Monte Carlo simulation\n",
    "estimated_pi = Generate_Approximation_to_PI(N_Samples)\n",
    "print(\"Our Estimate of Pi using\"+str(N_Samples)+' samples.  Our estimate: '+str(estimated_pi)+'.')"
   ]
  },
  {
   "cell_type": "markdown",
   "metadata": {},
   "source": [
    "### Looping and Convergence\n",
    "Let's see how the value changes as we increase the number of samples.  "
   ]
  },
  {
   "cell_type": "code",
   "execution_count": 33,
   "metadata": {},
   "outputs": [
    {
     "name": "stdout",
     "output_type": "stream",
     "text": [
      "Our Estimate of Pi using1 samples.  Our estimate: 0.0.\n",
      "Our Estimate of Pi using10 samples.  Our estimate: 4.0.\n",
      "Our Estimate of Pi using100 samples.  Our estimate: 3.2.\n",
      "Our Estimate of Pi using1000 samples.  Our estimate: 3.164.\n",
      "Our Estimate of Pi using10000 samples.  Our estimate: 3.1532.\n",
      "Our Estimate of Pi using100000 samples.  Our estimate: 3.1444.\n",
      "Our Estimate of Pi using1000000 samples.  Our estimate: 3.14048.\n",
      "Our Estimate of Pi using10000000 samples.  Our estimate: 3.1406564.\n"
     ]
    }
   ],
   "source": [
    "import numpy as np\n",
    "\n",
    "# Generate Powers of Samples\n",
    "N_Samples_Array = np.arange(0,8)\n",
    "N_Samples_Array = 10**N_Samples_Array\n",
    "\n",
    "# Loop and observe convergence\n",
    "for i in range(N_Samples_Array.shape[0]):\n",
    "    # Get Number of Samples to be used in this loop\n",
    "    N_Samples = N_Samples_Array[i]\n",
    "    \n",
    "    # Compute our Estimate of Pi\n",
    "    estimated_pi = Generate_Approximation_to_PI(N_Samples)\n",
    "    \n",
    "    # Report Findings\n",
    "    print(\"Our Estimate of Pi using\"+str(N_Samples)+' samples.  Our estimate: '+str(estimated_pi)+'.')"
   ]
  },
  {
   "cell_type": "markdown",
   "metadata": {},
   "source": [
    "Hmmm... that was slow towards the end.  For an impatient person such as myself, it would help to see a progress bar.  Luckily the `tqdm` packages provides precisely that time of functionality.  \n",
    "\n",
    "Let's modify the previous code snippet to include the progress bar."
   ]
  },
  {
   "cell_type": "code",
   "execution_count": 36,
   "metadata": {},
   "outputs": [
    {
     "name": "stderr",
     "output_type": "stream",
     "text": [
      " 75%|███████▌  | 6/8 [00:00<00:00, 41.66it/s]"
     ]
    },
    {
     "name": "stdout",
     "output_type": "stream",
     "text": [
      "Our Estimate of Pi using1 samples.  Our estimate: 4.0.\n",
      "Our Estimate of Pi using10 samples.  Our estimate: 1.6.\n",
      "Our Estimate of Pi using100 samples.  Our estimate: 3.32.\n",
      "Our Estimate of Pi using1000 samples.  Our estimate: 3.152.\n",
      "Our Estimate of Pi using10000 samples.  Our estimate: 3.1544.\n",
      "Our Estimate of Pi using100000 samples.  Our estimate: 3.14852.\n",
      "Our Estimate of Pi using1000000 samples.  Our estimate: 3.141788.\n"
     ]
    },
    {
     "name": "stderr",
     "output_type": "stream",
     "text": [
      "\r",
      "100%|██████████| 8/8 [00:08<00:00,  1.09s/it]"
     ]
    },
    {
     "name": "stdout",
     "output_type": "stream",
     "text": [
      "Our Estimate of Pi using10000000 samples.  Our estimate: 3.1422784.\n"
     ]
    },
    {
     "name": "stderr",
     "output_type": "stream",
     "text": [
      "\n"
     ]
    }
   ],
   "source": [
    "import numpy as np\n",
    "from tqdm import tqdm # Progress bar package\n",
    "\n",
    "# Generate Powers of Samples\n",
    "N_Samples_Array = np.arange(0,8)\n",
    "N_Samples_Array = 10**N_Samples_Array\n",
    "\n",
    "# Loop and observe convergence\n",
    "for i in tqdm(range(N_Samples_Array.shape[0])):\n",
    "    # Get Number of Samples to be used in this loop\n",
    "    N_Samples = N_Samples_Array[i]\n",
    "    \n",
    "    # Compute our Estimate of Pi\n",
    "    estimated_pi = Generate_Approximation_to_PI(N_Samples)\n",
    "    \n",
    "    # Report Findings\n",
    "    print(\"Our Estimate of Pi using\"+str(N_Samples)+' samples.  Our estimate: '+str(estimated_pi)+'.')"
   ]
  },
  {
   "cell_type": "markdown",
   "metadata": {},
   "source": [
    "## A Very Useful Example\n",
    "\n",
    "We wrap-up with a very useful code snippet and exaple.  \n",
    "\n",
    "In this lesson will use the following packages, which are automatially checked-for and installed via the following script."
   ]
  },
  {
   "cell_type": "code",
   "execution_count": 37,
   "metadata": {},
   "outputs": [
    {
     "name": "stdout",
     "output_type": "stream",
     "text": [
      "Current Iteration 0.0/1\n",
      "Current Iteration 0.2/1\n",
      "Current Iteration 0.4/1\n",
      "Current Iteration 0.6/1\n",
      "Current Iteration 0.8/1\n",
      "Done\n"
     ]
    }
   ],
   "source": [
    "# Let's import pip directly into our notebook\n",
    "import pip\n",
    "\n",
    "# Define Verification Function\n",
    "def Verify_Install(package):\n",
    "    try:\n",
    "        __import__(package)\n",
    "    except ImportError:\n",
    "        pip.main(['install', package])\n",
    "        \n",
    "# List of Packages for this Lesson\n",
    "packages_to_be_verified_or_installed = np.array(['numpy','perfplot','math','random','tqdm'])\n",
    "\n",
    "# Check Packages were installed and if not, install then\n",
    "for i in range(packages_to_be_verified_or_installed.shape[0]):\n",
    "    # Manual Progress Bar (since I'm assuming tqdm is possibly not installed)\n",
    "    print('Current Iteration '+str(round(i/packages_to_be_verified_or_installed.shape[0],2))+'/1')\n",
    "    # Get package to test\n",
    "    package_installed_TorF = packages_to_be_verified_or_installed[i]\n",
    "    # if we dont have it, we install it\n",
    "    Verify_Install(package_installed_TorF)\n",
    "    \n",
    "# Notify upon completion\n",
    "print('Done')"
   ]
  },
  {
   "cell_type": "markdown",
   "metadata": {},
   "source": [
    "---\n",
    "# Fin\n",
    "---"
   ]
  }
 ],
 "metadata": {
  "kernelspec": {
   "display_name": "Python 3",
   "language": "python",
   "name": "python3"
  },
  "language_info": {
   "codemirror_mode": {
    "name": "ipython",
    "version": 3
   },
   "file_extension": ".py",
   "mimetype": "text/x-python",
   "name": "python",
   "nbconvert_exporter": "python",
   "pygments_lexer": "ipython3",
   "version": "3.9.13"
  }
 },
 "nbformat": 4,
 "nbformat_minor": 5
}
