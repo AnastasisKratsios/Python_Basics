{
 "cells": [
  {
   "cell_type": "markdown",
   "id": "5f8b6344",
   "metadata": {},
   "source": [
    "# Lesson 2: Loops and Functions\n",
    "\n",
    "---\n",
    "\n",
    "![Image of Yaktocat](https://github.com/AnastasisKratsios/Python_Basics/blob/main/Supporting_Documents/LogicalTest.png?raw=true)\n",
    "\n",
    "---"
   ]
  },
  {
   "cell_type": "markdown",
   "id": "1136c658",
   "metadata": {},
   "source": [
    "In this notebook, we'll explore two fundamental concepts in Python: **loops** and **functions**. These are essential tools for controlling the flow of your program and creating reusable code blocks.\n"
   ]
  },
  {
   "cell_type": "markdown",
   "id": "559564e1",
   "metadata": {},
   "source": [
    "## Loops\n",
    "Loops are used to repeat a block of code multiple times. Python supports two main types of loops: **for loops** and **while loops**."
   ]
  },
  {
   "cell_type": "markdown",
   "id": "62c43d83",
   "metadata": {},
   "source": [
    "#### For Loops\n",
    "\n",
    "For loops are often used to iterate over a sequence (like a list, tuple, or string) or a range of numbers.\n"
   ]
  },
  {
   "cell_type": "code",
   "execution_count": 4,
   "id": "540761bd",
   "metadata": {},
   "outputs": [
    {
     "name": "stdout",
     "output_type": "stream",
     "text": [
      "apple\n",
      "banana\n",
      "cherry\n",
      "0\n",
      "1\n",
      "2\n",
      "3\n",
      "4\n"
     ]
    }
   ],
   "source": [
    "# Iterate over a list\n",
    "fruits = [\"apple\", \"banana\", \"cherry\"]\n",
    "for fruit in fruits:\n",
    "    print(fruit)\n",
    "\n",
    "# Iterate through a range of numbers\n",
    "for i in range(5):\n",
    "    print(i)"
   ]
  },
  {
   "cell_type": "markdown",
   "id": "83e6205c",
   "metadata": {},
   "source": [
    "#### While Loops\n",
    "\n",
    "While loops execute a block of code repeatedly as long as a given condition is `True`."
   ]
  },
  {
   "cell_type": "markdown",
   "id": "8ed04f9e",
   "metadata": {},
   "source": [
    "Here's an example of a `while` loop."
   ]
  },
  {
   "cell_type": "code",
   "execution_count": 35,
   "id": "9a8c3968",
   "metadata": {},
   "outputs": [
    {
     "name": "stdout",
     "output_type": "stream",
     "text": [
      "0\n",
      "1\n",
      "2\n",
      "3\n",
      "4\n"
     ]
    }
   ],
   "source": [
    "count = 0\n",
    "while count < 5:\n",
    "    print(count)\n",
    "    count += 1"
   ]
  },
  {
   "cell_type": "markdown",
   "id": "6df0fdb6",
   "metadata": {},
   "source": [
    "### Nesting Loops\n",
    "Loops can be nested.  Let's see how this can be used to populate a matrix of zeros."
   ]
  },
  {
   "cell_type": "code",
   "execution_count": 41,
   "id": "3d332bfb",
   "metadata": {},
   "outputs": [
    {
     "name": "stdout",
     "output_type": "stream",
     "text": [
      "[[ 0.  1.  2.  3.  4.]\n",
      " [ 1.  2.  3.  4.  5.]\n",
      " [ 2.  3.  4.  5.  6.]\n",
      " [ 3.  4.  5.  6.  7.]\n",
      " [ 4.  5.  6.  7.  8.]\n",
      " [ 5.  6.  7.  8.  9.]\n",
      " [ 6.  7.  8.  9. 10.]\n",
      " [ 7.  8.  9. 10. 11.]\n",
      " [ 8.  9. 10. 11. 12.]\n",
      " [ 9. 10. 11. 12. 13.]]\n"
     ]
    }
   ],
   "source": [
    "# Initialize matrix\n",
    "import numpy as np\n",
    "\n",
    "A_zeros = np.zeros([10,5])\n",
    "\n",
    "# Outer loop, runs over rows\n",
    "for i in range(A_zeros.shape[0]):\n",
    "    # Inner loop, runs over columns in a given row\n",
    "    for j in range(A_zeros.shape[1]):\n",
    "        A_zeros[i,j] = i+j\n",
    "\n",
    "# Let's see the result\n",
    "print(A_zeros)"
   ]
  },
  {
   "cell_type": "markdown",
   "id": "d4ccc8ad",
   "metadata": {},
   "source": [
    "**Pro-tip:** *Referring to your numpy dimensions directly with the `.shape` operations makes your code less susseptible to breaking if some, otherwise, hard-coded parameter is modified earlier on.*"
   ]
  },
  {
   "cell_type": "markdown",
   "id": "e7b7e1ea",
   "metadata": {},
   "source": [
    "## Functions\n",
    "\n",
    "Functions allow you to encapsulate code into reusable blocks. They improve code organization and maintainability.\n",
    "\n",
    "#### Defining a Function\n",
    "\n",
    "Use the `def` keyword to define a function. Functions can accept parameters and return values."
   ]
  },
  {
   "cell_type": "code",
   "execution_count": 8,
   "id": "ef4c3352",
   "metadata": {},
   "outputs": [],
   "source": [
    "def greet(name):\n",
    "    \"\"\"A function to greet the user.\"\"\"\n",
    "    print(f\"Hello, {name}!\")\n",
    "\n",
    "def add(a, b):\n",
    "    \"\"\"A function to add two numbers.\"\"\"\n",
    "    return a + b"
   ]
  },
  {
   "cell_type": "markdown",
   "id": "3441503f",
   "metadata": {},
   "source": [
    "#### Using Functions\n",
    "\n",
    "Call functions by their name, providing any required arguments. Capture and use return values if the function has one."
   ]
  },
  {
   "cell_type": "code",
   "execution_count": 9,
   "id": "7f8d236b",
   "metadata": {},
   "outputs": [
    {
     "name": "stdout",
     "output_type": "stream",
     "text": [
      "Hello, Alice!\n",
      "12\n"
     ]
    }
   ],
   "source": [
    "greet(\"Alice\")          \n",
    "sum_result = add(5, 7)  \n",
    "print(sum_result)    "
   ]
  },
  {
   "cell_type": "markdown",
   "id": "0851ff4e",
   "metadata": {},
   "source": [
    "Functions can greatly enhance code reusability and readability."
   ]
  },
  {
   "cell_type": "markdown",
   "id": "b0bd4d19",
   "metadata": {},
   "source": [
    "## Combining Loops and Functions\n",
    "\n",
    "You can use loops to repeatedly call functions, making your code more efficient and dynamic.  For example, you can use a loop to call a function multiple times."
   ]
  },
  {
   "cell_type": "code",
   "execution_count": 11,
   "id": "3f0ca7b7",
   "metadata": {},
   "outputs": [
    {
     "name": "stdout",
     "output_type": "stream",
     "text": [
      "Hello, User 0!\n",
      "Hello, User 1!\n",
      "Hello, User 2!\n"
     ]
    }
   ],
   "source": [
    "for i in range(3):\n",
    "    greet(\"User \" + str(i))"
   ]
  },
  {
   "cell_type": "markdown",
   "id": "a06d6dc1",
   "metadata": {},
   "source": [
    "## Functions with NumPy Arrays\n",
    "Next, let's see how to apply functions on numpy arrays.  This, therefore, builds on our last lesson.\n",
    "\n",
    "Let's start by defining a custom function that operates on individual elements, by squaring them and taking their cosine."
   ]
  },
  {
   "cell_type": "code",
   "execution_count": 13,
   "id": "65b73142",
   "metadata": {},
   "outputs": [],
   "source": [
    "def custom_function(x):\n",
    "    return np.cos(x ** 2)"
   ]
  },
  {
   "cell_type": "markdown",
   "id": "298d19a0",
   "metadata": {},
   "source": [
    "To efficiently apply a function to a numpy array, we will use the `Vectorize` function, which has an input a function with float (scalar) inputs and outputs a has hash function.  Here, a `hash` function is a function which operators on NumPy arrays of arbitary, not predefined, size."
   ]
  },
  {
   "cell_type": "markdown",
   "id": "34962eb5",
   "metadata": {},
   "source": [
    "### Vectorization with NumPy\n",
    "\n",
    "Now, you can apply the `square` function to a NumPy array using the array's built-in operations:"
   ]
  },
  {
   "cell_type": "code",
   "execution_count": 17,
   "id": "a526ea8f",
   "metadata": {},
   "outputs": [],
   "source": [
    "# Create a NumPy array\n",
    "A = np.array([1, 2, 3, 4, 5])"
   ]
  },
  {
   "cell_type": "markdown",
   "id": "f1cca7f7",
   "metadata": {},
   "source": [
    "Let's vectorized our custom function"
   ]
  },
  {
   "cell_type": "code",
   "execution_count": 18,
   "id": "a03d5702",
   "metadata": {},
   "outputs": [],
   "source": [
    "custom_function__vectorized = np.vectorize(custom_function)"
   ]
  },
  {
   "cell_type": "markdown",
   "id": "8d9711f6",
   "metadata": {},
   "source": [
    "Let's apply the vectorizsed custom function and see the result."
   ]
  },
  {
   "cell_type": "code",
   "execution_count": 20,
   "id": "43b25e3e",
   "metadata": {},
   "outputs": [
    {
     "name": "stdout",
     "output_type": "stream",
     "text": [
      "[ 0.54030231 -0.65364362 -0.91113026 -0.95765948  0.99120281]\n"
     ]
    }
   ],
   "source": [
    "# apply vectorized function\n",
    "Vectorized_arr = custom_function__vectorized(A)\n",
    "\n",
    "# print array\n",
    "print(Vectorized_arr)"
   ]
  },
  {
   "cell_type": "markdown",
   "id": "94511ee7",
   "metadata": {},
   "source": [
    "### Lambda Functions\n",
    "\n",
    "So-called **lambda functions**, which are small, anonymous functions, to apply custom operations. Here's how to square each element using a lambda function:"
   ]
  },
  {
   "cell_type": "code",
   "execution_count": 27,
   "id": "edb58ac9",
   "metadata": {},
   "outputs": [
    {
     "name": "stdout",
     "output_type": "stream",
     "text": [
      "[ 0.54030231 -0.65364362 -0.91113026 -0.95765948  0.99120281]\n"
     ]
    }
   ],
   "source": [
    "# Apply a lambda function to the array\n",
    "result_lambda = np.vectorize(lambda x: custom_function(x))(A)\n",
    "\n",
    "# readout\n",
    "print(result_lambda)"
   ]
  },
  {
   "cell_type": "markdown",
   "id": "815582ce",
   "metadata": {},
   "source": [
    "### Applying Functions Along Axes\n",
    "\n",
    "You can also apply functions along specific axes of multidimensional arrays using functions like `np.apply_along_axis()`."
   ]
  },
  {
   "cell_type": "code",
   "execution_count": 30,
   "id": "5cfa0d79",
   "metadata": {},
   "outputs": [
    {
     "data": {
      "text/plain": [
       "array([[0.95769119, 0.91010871],\n",
       "       [0.6747589 , 0.60811558],\n",
       "       [0.55495869, 0.99986594]])"
      ]
     },
     "execution_count": 30,
     "metadata": {},
     "output_type": "execute_result"
    }
   ],
   "source": [
    "# Apply the custom function along columns (axis=0)\n",
    "result_col = np.apply_along_axis(square, axis=0, arr=A_2d)\n",
    "\n",
    "# Readout\n",
    "result_col"
   ]
  },
  {
   "cell_type": "markdown",
   "id": "691d9fec",
   "metadata": {},
   "source": [
    "### Summary - A note on Computational Efficiency\n",
    "\n",
    "There are various other possibilities for applying a function to a NumPy array.  In general, like R, Python is most efficient when it comes to vectorial operations and **not** with loops.  Therefore, try and write your code as \"vectorially as possible\".  \n",
    "\n",
    "To get this point across, let's peek at some perfomance comparisons of different ways to apply our custom function to some arrays.\n",
    "\n",
    "**Comment:** *You'll have to install the `math` and `perfplot` packages.*"
   ]
  },
  {
   "cell_type": "code",
   "execution_count": 33,
   "id": "2639de6d",
   "metadata": {},
   "outputs": [
    {
     "data": {
      "application/vnd.jupyter.widget-view+json": {
       "model_id": "ab4c44855f4b4e4da2ec54f7ef9c67ed",
       "version_major": 2,
       "version_minor": 0
      },
      "text/plain": [
       "Output()"
      ]
     },
     "metadata": {},
     "output_type": "display_data"
    },
    {
     "data": {
      "text/html": [
       "<pre style=\"white-space:pre;overflow-x:auto;line-height:normal;font-family:Menlo,'DejaVu Sans Mono',consolas,'Courier New',monospace\"></pre>\n"
      ],
      "text/plain": []
     },
     "metadata": {},
     "output_type": "display_data"
    },
    {
     "data": {
      "text/html": [
       "<pre style=\"white-space:pre;overflow-x:auto;line-height:normal;font-family:Menlo,'DejaVu Sans Mono',consolas,'Courier New',monospace\">\n",
       "</pre>\n"
      ],
      "text/plain": [
       "\n"
      ]
     },
     "metadata": {},
     "output_type": "display_data"
    },
    {
     "data": {
      "image/png": "[encoded data removed]",
      "text/plain": [
       "<Figure size 640x480 with 1 Axes>"
      ]
     },
     "metadata": {},
     "output_type": "display_data"
    }
   ],
   "source": [
    "import perfplot\n",
    "import math\n",
    "\n",
    "def basic(x):\n",
    "    return custom_function(x)\n",
    "\n",
    "def array_for(x):\n",
    "    return np.array([custom_function(xi) for xi in x])\n",
    "\n",
    "\n",
    "def array_map(x):\n",
    "    return np.array(list(map(custom_function, x)))\n",
    "\n",
    "\n",
    "def vectorized(x):\n",
    "    return custom_function__vectorized(x)\n",
    "\n",
    "\n",
    "b = perfplot.bench(\n",
    "    setup=np.random.rand,\n",
    "    n_range=[2 ** k for k in range(20)],\n",
    "    kernels=[\n",
    "        basic,\n",
    "        array_for,\n",
    "        array_map,\n",
    "        vectorized,\n",
    "    ],\n",
    "    xlabel=\"len(x)\",\n",
    ")\n",
    "b.save(\"out1.svg\")\n",
    "b.show()"
   ]
  },
  {
   "cell_type": "markdown",
   "id": "00b688c3",
   "metadata": {},
   "source": [
    "As we see, vectorize is faster than looping.  Also, (sometimes) the direct application of the functions is best."
   ]
  },
  {
   "cell_type": "markdown",
   "id": "674523b1",
   "metadata": {},
   "source": [
    "---\n",
    "# Fin\n",
    "---"
   ]
  }
 ],
 "metadata": {
  "kernelspec": {
   "display_name": "Python 3 (ipykernel)",
   "language": "python",
   "name": "python3"
  },
  "language_info": {
   "codemirror_mode": {
    "name": "ipython",
    "version": 3
   },
   "file_extension": ".py",
   "mimetype": "text/x-python",
   "name": "python",
   "nbconvert_exporter": "python",
   "pygments_lexer": "ipython3",
   "version": "3.9.12"
  }
 },
 "nbformat": 4,
 "nbformat_minor": 5
}
